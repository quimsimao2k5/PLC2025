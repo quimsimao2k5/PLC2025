{
  "cells": [
    {
      "cell_type": "markdown",
      "metadata": {
        "id": "lqZQOHxtGC65"
      },
      "source": [
        "# **Autómatos Finitos Deterministas**\n",
        "###### 2024-02-22 by jcr"
      ]
    },
    {
      "cell_type": "markdown",
      "metadata": {
        "id": "yIwAFQK0GC67"
      },
      "source": [
        "## Máquina de venda automática\n",
        "\n",
        "Considere o problema de modelar uma máquina de venda automática usando um autómato finito determinista.\n",
        "\n",
        "Uma máquina de venda automática tem diferentes estados que representam o seu estado de funcionamento, como \"à espera\", \"aceitando moedas\", \"selecionando um produto\", \"entregando um produto\", etc. As transições entre esses estados são determinadas pelas ações do utilizador e pelo estado atual da máquina.\n",
        "\n",
        "Aqui está uma versão simplificada do problema:\n",
        "\n",
        "Estados:\n",
        "* À Espera\n",
        "* Aceitar Moedas\n",
        "* Selecionar Produto\n",
        "* Entregar Produto\n",
        "    \n",
        "Transições:\n",
        "\n",
        "* Do estado \"À Espera\", a máquina pode transitar para \"Aceitar Moedas\" quando um utilizador insere uma moeda.\n",
        "* Do estado \"Aceitar Moedas\", a máquina pode transitar para \"Selecionar Produto\" quando o utilizador pressiona um botão para selecionar um produto.\n",
        "* Do estado \"Selecionar Produto\", a máquina pode transitar para \"Entregar Produto\" quando o utilizador confirma a seleção.\n",
        "Após \"Entregar Produto\", a máquina retorna ao estado \"À Espera\".\n",
        "\n",
        "Ações:\n",
        "\n",
        "* Inserir Moeda\n",
        "* Pressionar Botão (para seleção de produto)\n",
        "* Confirmar Seleção\n",
        "* Entregar Produto\n",
        "\n",
        "Condições:\n",
        "\n",
        "* A máquina só aceita moedas no estado \"Aceitar Moedas\".\n",
        "* O utilizador só pode pressionar um botão para selecionar um produto no estado \"Selecionar Produto\".\n",
        "* A Entrega do Produto ocorre após a confirmação da seleção.\n",
        "\n",
        "Este problema pode ser modelado como um autómato finito determinista com estados, transições e ações associadas a cada estado. É um bom exercício definir os estados, transições e ações, e depois criar um diagrama ou tabela de transição de estados para representar o comportamento da máquina de venda automática."
      ]
    },
    {
      "cell_type": "markdown",
      "metadata": {},
      "source": [
        "## Resposta\n",
        "\n",
        "### Autómato referente à vending machine\n",
        "\n",
        "**Começa no estado Espera, esqueci**\n",
        "\n",
        "<?xml version=\"1.0\" standalone=\"no\"?>\n",
        "<!DOCTYPE svg PUBLIC \"-//W3C//DTD SVG 1.1//EN\" \"https://www.w3.org/Graphics/SVG/1.1/DTD/svg11.dtd\">\n",
        "\n",
        "<svg width=\"800\" height=\"600\" version=\"1.1\" xmlns=\"http://www.w3.org/2000/svg\">\n",
        "    <rect width=\"100%\" height=\"100%\" fill=\"white\"/>\n",
        "\t<ellipse stroke=\"black\" stroke-width=\"1\" fill=\"none\" cx=\"124.5\" cy=\"162.5\" rx=\"30\" ry=\"30\"/>\n",
        "\t<text x=\"97.5\" y=\"168.5\" font-family=\"Times New Roman\" font-size=\"20\">Espera</text>\n",
        "\t<ellipse stroke=\"black\" stroke-width=\"1\" fill=\"none\" cx=\"124.5\" cy=\"162.5\" rx=\"24\" ry=\"24\"/>\n",
        "\t<ellipse stroke=\"black\" stroke-width=\"1\" fill=\"none\" cx=\"661.5\" cy=\"162.5\" rx=\"30\" ry=\"30\"/>\n",
        "\t<text x=\"632.5\" y=\"168.5\" font-family=\"Times New Roman\" font-size=\"20\">Aceitar</text>\n",
        "\t<ellipse stroke=\"black\" stroke-width=\"1\" fill=\"none\" cx=\"661.5\" cy=\"492.5\" rx=\"30\" ry=\"30\"/>\n",
        "\t<text x=\"639.5\" y=\"498.5\" font-family=\"Times New Roman\" font-size=\"20\">Selec</text>\n",
        "\t<ellipse stroke=\"black\" stroke-width=\"1\" fill=\"none\" cx=\"124.5\" cy=\"492.5\" rx=\"30\" ry=\"30\"/>\n",
        "\t<text x=\"93.5\" y=\"498.5\" font-family=\"Times New Roman\" font-size=\"20\">Entrega</text>\n",
        "\t<polygon stroke=\"black\" stroke-width=\"1\" points=\"154.5,162.5 631.5,162.5\"/>\n",
        "\t<polygon fill=\"black\" stroke-width=\"1\" points=\"631.5,162.5 623.5,157.5 623.5,167.5\"/>\n",
        "\t<text x=\"329.5\" y=\"183.5\" font-family=\"Times New Roman\" font-size=\"20\">*insere moeda*</text>\n",
        "\t<polygon stroke=\"black\" stroke-width=\"1\" points=\"661.5,192.5 661.5,462.5\"/>\n",
        "\t<polygon fill=\"black\" stroke-width=\"1\" points=\"661.5,462.5 666.5,454.5 656.5,454.5\"/>\n",
        "\t<text x=\"511.5\" y=\"333.5\" font-family=\"Times New Roman\" font-size=\"20\">*pressiona botao*</text>\n",
        "\t<polygon stroke=\"black\" stroke-width=\"1\" points=\"631.5,492.5 154.5,492.5\"/>\n",
        "\t<polygon fill=\"black\" stroke-width=\"1\" points=\"154.5,492.5 162.5,497.5 162.5,487.5\"/>\n",
        "\t<text x=\"316.5\" y=\"483.5\" font-family=\"Times New Roman\" font-size=\"20\">*escolher produto*</text>\n",
        "\t<path stroke=\"black\" stroke-width=\"1\" fill=\"none\" d=\"M 648.275,135.703 A 22.5,22.5 0 1 1 674.725,135.703\"/>\n",
        "\t<text x=\"598.5\" y=\"86.5\" font-family=\"Times New Roman\" font-size=\"20\">*insere moeda*</text>\n",
        "\t<polygon fill=\"black\" stroke-width=\"1\" points=\"674.725,135.703 683.473,132.17 675.382,126.292\"/>\n",
        "\t<polygon stroke=\"black\" stroke-width=\"1\" points=\"124.5,462.5 124.5,192.5\"/>\n",
        "\t<polygon fill=\"black\" stroke-width=\"1\" points=\"124.5,192.5 119.5,200.5 129.5,200.5\"/>\n",
        "\t<text x=\"129.5\" y=\"333.5\" font-family=\"Times New Roman\" font-size=\"20\">*entrega produto*</text>\n",
        "\t<path stroke=\"black\" stroke-width=\"1\" fill=\"none\" d=\"M 674.725,519.297 A 22.5,22.5 0 1 1 648.275,519.297\"/>\n",
        "\t<text x=\"589.5\" y=\"581.5\" font-family=\"Times New Roman\" font-size=\"20\">*pressiona botao*</text>\n",
        "\t<polygon fill=\"black\" stroke-width=\"1\" points=\"648.275,519.297 639.527,522.83 647.618,528.708\"/>\n",
        "</svg>\n"
      ]
    },
    {
      "cell_type": "markdown",
      "metadata": {
        "id": "k9f3zptbGC68"
      },
      "source": [
        "## Semáforo de trânsito\n",
        "\n",
        "Considere um semáforo de trânsito e tente modelá-lo com um AFD de acordo com os seguintes requisitos.\n",
        "\n",
        "Estados:\n",
        "\n",
        "* Vermelho (para veículos)\n",
        "* Verde (para veículos)\n",
        "* Amarelo (transição entre Vermelho e Verde)\n",
        "\n",
        "Transições:\n",
        "\n",
        "* Do estado Vermelho, o semáforo pode transitar para Amarelo após um certo período de tempo.\n",
        "* Do estado Amarelo, o semáforo pode transitar para Verde após um curto período de tempo.\n",
        "* Do estado Verde, o semáforo pode transitar para Amarelo após um certo período de tempo.\n",
        "* Do estado Amarelo, o semáforo pode transitar para Vermelho após um curto período de tempo.\n",
        "\n",
        "Ações:\n",
        "\n",
        "* Mudar para Vermelho (para veículos)\n",
        "* Mudar para Verde (para veículos)\n",
        "* Mudar para Amarelo\n",
        "\n",
        "Condições:\n",
        "\n",
        "* O semáforo permanece no estado Vermelho por um período mais longo do que no estado Amarelo.\n",
        "* O semáforo permanece no estado Verde por um período mais longo do que no estado Amarelo.\n",
        "* Este problema representa um ciclo simples de semáforo de trânsito, onde os estados e transições são governados por temporizadores que controlam o tempo em cada estado. Pode-se modelar isso como um autómato finito com estados representando as cores do semáforo e transições ocorrendo com base no tempo decorrido em cada estado."
      ]
    },
    {
      "cell_type": "markdown",
      "metadata": {
        "id": "07L3aW3VGC68"
      },
      "source": [
        "## Elevador\n",
        "\n",
        "Considere o problema de modelar o comportamento de um sistema de controle de um elevador usando um AFD.\n",
        "\n",
        "Estados:\n",
        "\n",
        "* Parado num Andar\n",
        "* Subindo\n",
        "* Descendo\n",
        "* Abrindo Porta\n",
        "* Fechando Porta\n",
        "\n",
        "Transições:\n",
        "\n",
        "* Do estado Parado num Andar, o elevador pode transitar para Subindo ou Descendo quando o utilizador pressiona o botão correspondente.\n",
        "* Se o elevador estiver subindo ou descendo, ele pode transitar para Abrindo Porta quando atingir o andar desejado.\n",
        "* Da abertura da porta, o elevador pode transitar para Fechando Porta após um certo período de tempo.\n",
        "* Do estado Fechando Porta, o elevador pode voltar para Parado em um Andar.\n",
        "\n",
        "Ações:\n",
        "\n",
        "* Pressionar Botão para Cima\n",
        "* Pressionar Botão para Baixo\n",
        "* Abrir Porta\n",
        "* Fechar Porta\n",
        "\n",
        "Condições:\n",
        "\n",
        "* O elevador só pode abrir a porta quando atinge um andar desejado.\n",
        "* A porta permanece aberta por um período antes de fechar automaticamente.\n",
        "* O elevador só pode se movimentar para cima ou para baixo após um botão correspondente ser pressionado.\n",
        "* Este problema modela o comportamento básico de um elevador, onde os estados e transições são determinados pelas ações dos utilizadores (pressionar botões) e as operações automáticas do elevador (abrir e fechar portas, mover para cima ou para baixo). Pode-se criar um AFD para representar o controle de elevador."
      ]
    },
    {
      "cell_type": "markdown",
      "metadata": {
        "id": "VPSd6iPuGC69"
      },
      "source": [
        "## Strings binários com número Par de 0's e número ímpar de 1's\n",
        "\n",
        "Especifique um AFD que reconhece como válidas as strings binárias que obedecem à condição de ter um número par de 0's e um número ímpar de 1's."
      ]
    },
    {
      "cell_type": "markdown",
      "metadata": {},
      "source": [
        "## Resposta\n",
        "\n",
        "### Autómato referente às strings binárias com número par de 0's e número ímpar de 1's\n",
        "\n",
        "**Começa no estado P0,P1, esqueci**\n",
        "\n",
        "<?xml version=\"1.0\" standalone=\"no\"?>\n",
        "<!DOCTYPE svg PUBLIC \"-//W3C//DTD SVG 1.1//EN\" \"https://www.w3.org/Graphics/SVG/1.1/DTD/svg11.dtd\">\n",
        "\n",
        "<svg width=\"800\" height=\"600\" version=\"1.1\" xmlns=\"http://www.w3.org/2000/svg\">\n",
        "    <rect width=\"100%\" height=\"100%\" fill=\"white\"/>\n",
        "\t<ellipse stroke=\"black\" stroke-width=\"1\" fill=\"none\" cx=\"150.5\" cy=\"165.5\" rx=\"30\" ry=\"30\"/>\n",
        "\t<text x=\"126.5\" y=\"171.5\" font-family=\"Times New Roman\" font-size=\"20\">P0,P1</text>\n",
        "\t<ellipse stroke=\"black\" stroke-width=\"1\" fill=\"none\" cx=\"594.5\" cy=\"165.5\" rx=\"30\" ry=\"30\"/>\n",
        "\t<text x=\"573.5\" y=\"171.5\" font-family=\"Times New Roman\" font-size=\"20\">I0,P1</text>\n",
        "\t<ellipse stroke=\"black\" stroke-width=\"1\" fill=\"none\" cx=\"594.5\" cy=\"385.5\" rx=\"30\" ry=\"30\"/>\n",
        "\t<text x=\"575.5\" y=\"391.5\" font-family=\"Times New Roman\" font-size=\"20\">I0,I1</text>\n",
        "\t<ellipse stroke=\"black\" stroke-width=\"1\" fill=\"none\" cx=\"150.5\" cy=\"385.5\" rx=\"30\" ry=\"30\"/>\n",
        "\t<text x=\"129.5\" y=\"391.5\" font-family=\"Times New Roman\" font-size=\"20\">P0,I1</text>\n",
        "\t<ellipse stroke=\"black\" stroke-width=\"1\" fill=\"none\" cx=\"150.5\" cy=\"385.5\" rx=\"24\" ry=\"24\"/>\n",
        "\t<path stroke=\"black\" stroke-width=\"1\" fill=\"none\" d=\"M 565.764,174.11 A 723.602,723.602 0 0 1 179.236,174.11\"/>\n",
        "\t<polygon fill=\"black\" stroke-width=\"1\" points=\"565.764,174.11 556.719,171.428 559.39,181.065\"/>\n",
        "\t<text x=\"367.5\" y=\"221.5\" font-family=\"Times New Roman\" font-size=\"20\">0</text>\n",
        "\t<path stroke=\"black\" stroke-width=\"1\" fill=\"none\" d=\"M 609.545,191.42 A 193.883,193.883 0 0 1 609.545,359.58\"/>\n",
        "\t<polygon fill=\"black\" stroke-width=\"1\" points=\"609.545,359.58 617.52,354.54 608.509,350.203\"/>\n",
        "\t<text x=\"633.5\" y=\"281.5\" font-family=\"Times New Roman\" font-size=\"20\">1</text>\n",
        "\t<path stroke=\"black\" stroke-width=\"1\" fill=\"none\" d=\"M 179.68,158.54 A 894.054,894.054 0 0 1 565.32,158.54\"/>\n",
        "\t<polygon fill=\"black\" stroke-width=\"1\" points=\"179.68,158.54 188.57,161.697 186.413,151.932\"/>\n",
        "\t<text x=\"367.5\" y=\"128.5\" font-family=\"Times New Roman\" font-size=\"20\">0</text>\n",
        "\t<path stroke=\"black\" stroke-width=\"1\" fill=\"none\" d=\"M 579.59,359.501 A 195.558,195.558 0 0 1 579.59,191.499\"/>\n",
        "\t<polygon fill=\"black\" stroke-width=\"1\" points=\"579.59,191.499 571.639,196.575 580.669,200.871\"/>\n",
        "\t<text x=\"545.5\" y=\"281.5\" font-family=\"Times New Roman\" font-size=\"20\">1</text>\n",
        "\t<path stroke=\"black\" stroke-width=\"1\" fill=\"none\" d=\"M 137.611,358.434 A 224.875,224.875 0 0 1 137.611,192.566\"/>\n",
        "\t<polygon fill=\"black\" stroke-width=\"1\" points=\"137.611,358.434 139.309,349.154 130.013,352.842\"/>\n",
        "\t<text x=\"106.5\" y=\"281.5\" font-family=\"Times New Roman\" font-size=\"20\">1</text>\n",
        "\t<path stroke=\"black\" stroke-width=\"1\" fill=\"none\" d=\"M 165.558,191.413 A 193.729,193.729 0 0 1 165.558,359.587\"/>\n",
        "\t<polygon fill=\"black\" stroke-width=\"1\" points=\"165.558,191.413 164.526,200.79 173.535,196.45\"/>\n",
        "\t<text x=\"189.5\" y=\"281.5\" font-family=\"Times New Roman\" font-size=\"20\">1</text>\n",
        "\t<path stroke=\"black\" stroke-width=\"1\" fill=\"none\" d=\"M 566.881,397.202 A 533.868,533.868 0 0 1 178.119,397.202\"/>\n",
        "\t<polygon fill=\"black\" stroke-width=\"1\" points=\"566.881,397.202 557.609,395.458 561.25,404.772\"/>\n",
        "\t<text x=\"367.5\" y=\"454.5\" font-family=\"Times New Roman\" font-size=\"20\">0</text>\n",
        "\t<path stroke=\"black\" stroke-width=\"1\" fill=\"none\" d=\"M 179.587,378.162 A 848.222,848.222 0 0 1 565.413,378.162\"/>\n",
        "\t<polygon fill=\"black\" stroke-width=\"1\" points=\"179.587,378.162 188.515,381.211 186.24,371.473\"/>\n",
        "\t<text x=\"367.5\" y=\"346.5\" font-family=\"Times New Roman\" font-size=\"20\">0</text>\n",
        "</svg>\n"
      ]
    },
    {
      "cell_type": "markdown",
      "metadata": {
        "id": "G6gYYy85GC6-"
      },
      "source": [
        "## Números inteiros divisíveis por 4\n",
        "\n",
        "Especifique um AFD que reconhece como válidas as strings contendo números inteiros divisíveis por 4."
      ]
    }
  ],
  "metadata": {
    "colab": {
      "provenance": []
    },
    "language_info": {
      "name": "python"
    }
  },
  "nbformat": 4,
  "nbformat_minor": 0
}
